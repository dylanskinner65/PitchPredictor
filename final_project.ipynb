{
 "cells": [
  {
   "cell_type": "markdown",
   "metadata": {},
   "source": [
    "# Pitch Predictor - Deep Learning Project"
   ]
  },
  {
   "cell_type": "markdown",
   "metadata": {},
   "source": [
    "Owners: Jason Vasquez & Dylan Skinner\n",
    "\n",
    "Last Modified: 9/28/2023\n",
    "\n",
    "CS 674 Advanced Deep Learning Project 1\n",
    "\n",
    "Dr Wingate, 2023 Fall Semester, BYU"
   ]
  },
  {
   "cell_type": "markdown",
   "metadata": {},
   "source": [
    "## Introduction"
   ]
  },
  {
   "cell_type": "markdown",
   "metadata": {},
   "source": [
    "The goal of this project is to use a Deep Learning Neural Network to predict a pitch in an MLB Baseball game based on circumstances that would be known to the batter before the pitch (who's pitching, number of pitches, number of outs, etc.)\n",
    "\n",
    "Data for this project was downloaded from kaggle, courtesy of Paul Schale (https://www.kaggle.com/datasets/pschale/mlb-pitch-data-20152018). The dataset contains all pitch data from the 2015-2019 MLB Seasons, over 3 million pitches.\n",
    "\n",
    "We begin with setting up several baselines with which we can compare the accuracy of our neural network. Our first baseline is a random pull from the distribution of pitches for the specific pitcher. The second baseline is a shallow machine learning catboost model."
   ]
  },
  {
   "cell_type": "code",
   "execution_count": 4,
   "metadata": {},
   "outputs": [],
   "source": [
    "#necessary imports\n",
    "import pandas as pd\n",
    "import numpy as np\n",
    "from matplotlib import pyplot as plt\n",
    "import json\n",
    "import os\n",
    "import torch\n",
    "from torch.utils.data import Dataset\n",
    "from sklearn.preprocessing import LabelEncoder"
   ]
  },
  {
   "cell_type": "markdown",
   "metadata": {},
   "source": [
    "## Data Setup"
   ]
  },
  {
   "cell_type": "markdown",
   "metadata": {},
   "source": [
    "##### Helper Functions"
   ]
  },
  {
   "cell_type": "code",
   "execution_count": 12,
   "metadata": {},
   "outputs": [],
   "source": [
    "def read_data(file_path):\n",
    "\n",
    "    #set the working directory\n",
    "    os.chdir(file_path)\n",
    "    \n",
    "    # Read in data\n",
    "    pitches = pd.read_csv('pitches.csv')\n",
    "    names = pd.read_csv('player_names.csv')\n",
    "    at_bat = pd.read_csv('atbats.csv')\n",
    "    games = pd.read_csv('games.csv')\n",
    "\n",
    "    # Read in more recent data.\n",
    "    pitches_2019 = pd.read_csv('2019_pitches.csv')\n",
    "    atbats_2019 = pd.read_csv('2019_atbats.csv')\n",
    "    games_2019 = pd.read_csv('2019_games.csv')\n",
    "\n",
    "    # Drop necessary columns to be able to stack data.\n",
    "    games.drop(columns=['delay'], inplace=True)\n",
    "\n",
    "    # Stack dataframes together.\n",
    "    print(f'pitches.shape {pitches.shape}, at_bat.shape {at_bat.shape}, games.shape {games.shape}')\n",
    "    pitches = pd.concat([pitches, pitches_2019], ignore_index=True, axis=0)\n",
    "    at_bat = pd.concat([at_bat, atbats_2019], ignore_index=True, axis=0)\n",
    "    games = pd.concat([games, games_2019], ignore_index=True, axis=0)\n",
    "    print(f'pitches.shape {pitches.shape}, at_bat.shape {at_bat.shape}, games.shape {games.shape}')\n",
    "\n",
    "    # Create column in names with full name.\n",
    "    names['full_name'] = names['first_name'] + ' ' + names['last_name']\n",
    "\n",
    "    return pitches, at_bat, games, names"
   ]
  },
  {
   "cell_type": "code",
   "execution_count": 9,
   "metadata": {},
   "outputs": [],
   "source": [
    "def merge(pitches, at_bat, names):\n",
    "    # Merge pitches and at_bats together.\n",
    "    pitches_merge = pitches.merge(at_bat, on='ab_id', validate='m:1')\n",
    "\n",
    "    # Merge pitches_merge and names together\n",
    "    pitches_merge = pitches_merge.merge(names, left_on='pitcher_id', right_on='id')\n",
    "    pitches_merge.drop(['last_name', 'first_name', 'id'], axis=1, inplace=True)\n",
    "    pitches_merge.set_index('pitcher_id', inplace=True)\n",
    "\n",
    "    return pitches_merge"
   ]
  },
  {
   "cell_type": "code",
   "execution_count": 11,
   "metadata": {},
   "outputs": [],
   "source": [
    "def save_data(pitches_merge, file_path):\n",
    "    # several columns have value 'placeholder' for many rows. Convert those all to 0.\n",
    "    pitches_merge['spin_rate'] = pitches_merge.spin_rate.replace('placeholder', 0)\n",
    "    pitches_merge['spin_dir'] = pitches_merge.spin_dir.replace('placeholder', 0)\n",
    "    pitches_merge['type_confidence'] = pitches_merge.type_confidence.replace('placeholder', 0)\n",
    "    pitches_merge['zone'] = pitches_merge.zone.replace('placeholder', 0)\n",
    "    pitches_merge['x'] = pd.to_numeric(pitches_merge['x'], errors='coerce')\n",
    "    pitches_merge['y'] = pd.to_numeric(pitches_merge['y'], errors='coerce')\n",
    "    pitches_merge['code'] = pitches_merge.code.astype(str)\n",
    "    pitches_merge['type'] = pitches_merge.type.astype(str)\n",
    "    pitches_merge['top'] = pitches_merge.top.replace({1.0: True, 0.0: False})\n",
    "\n",
    "    # Convert to parquet.\n",
    "    pitches_merge.to_parquet(file_path + 'pitches_data.parquet')"
   ]
  },
  {
   "cell_type": "markdown",
   "metadata": {},
   "source": [
    "##### Read in the Data from downloaded csv files"
   ]
  },
  {
   "cell_type": "code",
   "execution_count": 13,
   "metadata": {},
   "outputs": [
    {
     "name": "stdout",
     "output_type": "stream",
     "text": [
      "pitches.shape (2867154, 40), at_bat.shape (740389, 11), games.shape (9718, 16)\n",
      "pitches.shape (3595944, 40), at_bat.shape (925634, 11), games.shape (12126, 16)\n"
     ]
    }
   ],
   "source": [
    "#change file path to wherever csv data is located\n",
    "pitches, at_bats, games, names = read_data('/Users/jasonvasquez/Desktop/cs_674/PitchPredictor/csv_data')"
   ]
  },
  {
   "cell_type": "markdown",
   "metadata": {},
   "source": [
    "##### Merge the pitch data with the at bat data to produce one dataset"
   ]
  },
  {
   "cell_type": "code",
   "execution_count": 14,
   "metadata": {},
   "outputs": [],
   "source": [
    "pitches_merge = merge(pitches, at_bats, names)"
   ]
  },
  {
   "cell_type": "markdown",
   "metadata": {},
   "source": [
    "##### Save the data as a parquet file for easy reloading"
   ]
  },
  {
   "cell_type": "code",
   "execution_count": 15,
   "metadata": {},
   "outputs": [],
   "source": [
    "#change filepath for where you want to save data file\n",
    "save_data(pitches_merge, file_path='/Users/jasonvasquez/Desktop/cs_674/PitchPredictor/')"
   ]
  },
  {
   "cell_type": "markdown",
   "metadata": {},
   "source": [
    "##### Read in the parquet file once already saved"
   ]
  },
  {
   "cell_type": "code",
   "execution_count": 18,
   "metadata": {},
   "outputs": [],
   "source": [
    "pitches_merge = pd.read_parquet('/Users/jasonvasquez/Desktop/cs_674/PitchPredictor/pitches_data.parquet')"
   ]
  },
  {
   "cell_type": "markdown",
   "metadata": {},
   "source": [
    "## Pitch Distributions"
   ]
  },
  {
   "cell_type": "markdown",
   "metadata": {},
   "source": [
    "Create a JSON file that contains each pitcher in the dataset and their distribution of pitchers. This will be useful for our random baseline and also will be used as a feature in our deep learning model."
   ]
  },
  {
   "cell_type": "markdown",
   "metadata": {},
   "source": [
    "##### Helper Function"
   ]
  },
  {
   "cell_type": "code",
   "execution_count": 1,
   "metadata": {},
   "outputs": [],
   "source": [
    "def make_json(file_path):\n",
    "\n",
    "    # Get all possible unique pitchers\n",
    "    all_pitchers = pitches_merge.full_name.unique().tolist()\n",
    "\n",
    "    # Create variables\n",
    "    pitch_distributions = dict()\n",
    "\n",
    "    # Iterate through all unique pitchers, getting their distribution of pitches (set up like json). Will look like this:\n",
    "    # {'name': \n",
    "    #         {'pitch_keys': [keys corresponding to pitches],\n",
    "    #          'pitch_dist' : [distribution of pitches (same order as keys)]}\n",
    "    # }\n",
    "    # Iterate through all pitchers\n",
    "    for pitch in all_pitchers:\n",
    "        # Get a pitcher subset\n",
    "        subset = pitches_merge.loc[pitches_merge.full_name == pitch]\n",
    "\n",
    "        # Get the distribution\n",
    "        dist = subset['pitch_type'].value_counts() / np.sum(subset['pitch_type'].value_counts())\n",
    "\n",
    "        # Create the inner dictionary (pitch_keys and pitch_dist) and add it to main dictionary with the key as the pitchers name.\n",
    "        pitch_distributions[pitch] = {'pitch_keys': dist.index.tolist(), 'pitch_dist' : dist.values.tolist()}\n",
    "\n",
    "    # j = json.load([pitch_distributions])\n",
    "    j = json.dumps(pitch_distributions, indent=4)[:403]\n",
    "\n",
    "    with open(file_path + \"pitcher_distribution.json\", \"w\") as outfile:\n",
    "        json.dump(pitch_distributions, outfile)\n",
    "    \n",
    "    return pitch_distributions"
   ]
  },
  {
   "cell_type": "markdown",
   "metadata": {},
   "source": [
    "##### Get Distribtutions and save it as a Json File for future use"
   ]
  },
  {
   "cell_type": "code",
   "execution_count": 5,
   "metadata": {},
   "outputs": [],
   "source": [
    "pitch_distributions = make_json('/Users/jasonvasquez/Desktop/cs_674/PitchPredictor/')"
   ]
  },
  {
   "cell_type": "markdown",
   "metadata": {},
   "source": [
    "##### Visualize Pitch Distributions and Samples from Distribution"
   ]
  },
  {
   "cell_type": "code",
   "execution_count": 8,
   "metadata": {},
   "outputs": [
    {
     "data": {
      "image/png": "[encoded data removed]",
      "text/plain": [
       "<Figure size 1000x1000 with 4 Axes>"
      ]
     },
     "metadata": {
      "needs_background": "light"
     },
     "output_type": "display_data"
    }
   ],
   "source": [
    "list_of_pitchers = list(pitch_distributions.keys())\n",
    "\n",
    "# Initilize subplots for better viewing.\n",
    "rows, cols = 2, 2\n",
    "fig, ax = plt.subplots(rows, cols, figsize=(10,10), dpi=100)\n",
    "r, c = 0, 0\n",
    "for i in range(rows*cols):\n",
    "    # Randomly select a pitcher\n",
    "    randomly_selected_pitcher = np.random.choice(list_of_pitchers)\n",
    "\n",
    "    # Get that pitchers distribution.\n",
    "    randomly_selected_pitch = np.random.choice(pitch_distributions[randomly_selected_pitcher]['pitch_keys'], \n",
    "                                            p=pitch_distributions[randomly_selected_pitcher]['pitch_dist'],\n",
    "                                            size=2500)\n",
    "\n",
    "    # To ensure that things are working the way they are supposed to, randomly sample pitch types a ton and make sure the law\n",
    "    # of large numbers kicks in.\n",
    "    vals, counts = np.unique(randomly_selected_pitch, return_counts=True)\n",
    "    ax[r, c].bar(vals, counts/np.sum(counts), label='Sampled')\n",
    "    ax[r, c].bar(pitch_distributions[randomly_selected_pitcher]['pitch_keys'],\n",
    "            pitch_distributions[randomly_selected_pitcher]['pitch_dist'],\n",
    "            width=0.5, label='Actual')\n",
    "    ax[r,c].legend()\n",
    "    ax[r,c].set_title(f'Pitcher: {randomly_selected_pitcher}')\n",
    "\n",
    "    c += 1\n",
    "    if c == cols:\n",
    "        r += 1\n",
    "        c = 0\n",
    "\n",
    "plt.show()"
   ]
  },
  {
   "cell_type": "markdown",
   "metadata": {},
   "source": [
    "## Random Sample Baseline"
   ]
  },
  {
   "cell_type": "markdown",
   "metadata": {},
   "source": [
    "##### Helper Function"
   ]
  },
  {
   "cell_type": "code",
   "execution_count": 10,
   "metadata": {},
   "outputs": [],
   "source": [
    "def random_model(df_path, dist_path):\n",
    "    #load in the data file\n",
    "    pitches_merge = pd.read_parquet(df_path)\n",
    "\n",
    "    #load in the json file\n",
    "    with open(dist_path) as file:\n",
    "        pitch_distribution = json.load(file)\n",
    "\n",
    "    #turn json file into pandas dataframe\n",
    "    pitch_distribution = pd.read_json('pitcher_distribution.json', orient='index')\n",
    "\n",
    "    columns_to_keep = ['full_name', 'pitch_type']\n",
    "    random_df = pitches_merge[columns_to_keep]\n",
    "\n",
    "    #merge the pitch keys and distrubtion with the name\n",
    "    random_df = pd.merge(random_df, pitch_distribution, left_on='full_name', right_index=True)\n",
    "    random_df = random_df.dropna()\n",
    "\n",
    "    #random model\n",
    "    pitches = random_df['pitch_keys'].to_numpy()\n",
    "    dists = random_df['pitch_dist'].to_numpy()\n",
    "    prediction = []\n",
    "    for i in range(len(pitches)):\n",
    "        prediction.append(np.random.choice(pitches[i], p=dists[i], size=1)[0])\n",
    "\n",
    "    random_df['predictions'] = prediction\n",
    "\n",
    "    random_df['correct'] = (random_df['pitch_type'] == random_df['predictions']) * 1\n",
    "\n",
    "    return random_df, random_df['correct'].mean()\n"
   ]
  },
  {
   "cell_type": "markdown",
   "metadata": {},
   "source": [
    "##### Go through every pitch, and predict the pitch by randomly sampling the pitchers pitch distribution, return the dataframe with the predicted pitches and the average accuracy"
   ]
  },
  {
   "cell_type": "code",
   "execution_count": 11,
   "metadata": {},
   "outputs": [],
   "source": [
    "random_df, random_acc = random_model(\n",
    "      df_path = '/Users/jasonvasquez/Desktop/cs_674/PitchPredictor/pitches_data.parquet'\n",
    "    , dist_path = '/Users/jasonvasquez/Desktop/cs_674/PitchPredictor/pitcher_distribution.json'\n",
    ")"
   ]
  },
  {
   "cell_type": "code",
   "execution_count": 12,
   "metadata": {},
   "outputs": [
    {
     "name": "stdout",
     "output_type": "stream",
     "text": [
      "The random model predicted pitches with 32.9% accuracy\n"
     ]
    }
   ],
   "source": [
    "print(f\"The random model predicted pitches with {round(random_acc * 100, 2)}% accuracy\")"
   ]
  },
  {
   "cell_type": "markdown",
   "metadata": {},
   "source": [
    "## Catboost Baseline (Dylan this is on you)"
   ]
  },
  {
   "cell_type": "markdown",
   "metadata": {},
   "source": [
    "## Dataset and Dataloader"
   ]
  },
  {
   "cell_type": "markdown",
   "metadata": {},
   "source": [
    "The following dataset class and dataloader will format the data to be passed in sequentially to the RNN and other similar networks"
   ]
  },
  {
   "cell_type": "code",
   "execution_count": 21,
   "metadata": {},
   "outputs": [],
   "source": [
    "pitches = pd.read_parquet('/Users/jasonvasquez/Desktop/cs_674/PitchPredictor/pitches_data.parquet')"
   ]
  },
  {
   "cell_type": "code",
   "execution_count": 45,
   "metadata": {},
   "outputs": [],
   "source": [
    "future_columns = ['px', 'pz', 'start_speed', 'end_speed', 'spin_rate', 'spin_dir', \n",
    "                      'break_angle', 'break_length', 'break_y', 'ax', 'ay', 'az', 'type_confidence',\n",
    "                      'vx0', 'vy0', 'vz0', 'x', 'x0', 'y', 'y0', 'z0', 'pfx_x', 'pfx_z', 'nasty',\n",
    "                      'zone', 'sz_bot', 'sz_top', 'event_num']"
   ]
  },
  {
   "cell_type": "code",
   "execution_count": 46,
   "metadata": {},
   "outputs": [],
   "source": [
    "new_pitches = pitches.drop(columns=future_columns)"
   ]
  },
  {
   "cell_type": "code",
   "execution_count": 54,
   "metadata": {},
   "outputs": [],
   "source": [
    "#fill NaN values\n",
    "new_pitches['code'].replace('nan', 'B', inplace=True)"
   ]
  },
  {
   "cell_type": "code",
   "execution_count": 55,
   "metadata": {},
   "outputs": [
    {
     "name": "stdout",
     "output_type": "stream",
     "text": [
      "code\n",
      "type\n",
      "pitch_type\n",
      "b_score\n",
      "ab_id\n",
      "b_count\n",
      "s_count\n",
      "outs\n",
      "pitch_num\n",
      "on_1b\n",
      "on_2b\n",
      "on_3b\n",
      "batter_id\n",
      "event\n",
      "g_id\n",
      "inning\n",
      "o\n",
      "p_score\n",
      "p_throws\n",
      "stand\n",
      "top\n",
      "full_name\n"
     ]
    }
   ],
   "source": [
    "for col in new_pitches.columns:\n",
    "    print(col)"
   ]
  },
  {
   "cell_type": "code",
   "execution_count": 82,
   "metadata": {},
   "outputs": [],
   "source": [
    "#label encode the string columns\n",
    "categorical_columns = pitches.select_dtypes(include=['object'])\n",
    "\n",
    "label_encoders = {}\n",
    "for column in categorical_columns:\n",
    "    label_encoders[column] = LabelEncoder()\n",
    "    new_pitches[column] = label_encoders[column].fit_transform(new_pitches[column])"
   ]
  },
  {
   "cell_type": "code",
   "execution_count": 84,
   "metadata": {},
   "outputs": [
    {
     "data": {
      "text/html": [
       "<div>\n",
       "<style scoped>\n",
       "    .dataframe tbody tr th:only-of-type {\n",
       "        vertical-align: middle;\n",
       "    }\n",
       "\n",
       "    .dataframe tbody tr th {\n",
       "        vertical-align: top;\n",
       "    }\n",
       "\n",
       "    .dataframe thead th {\n",
       "        text-align: right;\n",
       "    }\n",
       "</style>\n",
       "<table border=\"1\" class=\"dataframe\">\n",
       "  <thead>\n",
       "    <tr style=\"text-align: right;\">\n",
       "      <th></th>\n",
       "      <th>code</th>\n",
       "      <th>type</th>\n",
       "      <th>pitch_type</th>\n",
       "      <th>b_score</th>\n",
       "      <th>ab_id</th>\n",
       "      <th>b_count</th>\n",
       "      <th>s_count</th>\n",
       "      <th>outs</th>\n",
       "      <th>pitch_num</th>\n",
       "      <th>on_1b</th>\n",
       "      <th>...</th>\n",
       "      <th>batter_id</th>\n",
       "      <th>event</th>\n",
       "      <th>g_id</th>\n",
       "      <th>inning</th>\n",
       "      <th>o</th>\n",
       "      <th>p_score</th>\n",
       "      <th>p_throws</th>\n",
       "      <th>stand</th>\n",
       "      <th>top</th>\n",
       "      <th>full_name</th>\n",
       "    </tr>\n",
       "    <tr>\n",
       "      <th>pitcher_id</th>\n",
       "      <th></th>\n",
       "      <th></th>\n",
       "      <th></th>\n",
       "      <th></th>\n",
       "      <th></th>\n",
       "      <th></th>\n",
       "      <th></th>\n",
       "      <th></th>\n",
       "      <th></th>\n",
       "      <th></th>\n",
       "      <th></th>\n",
       "      <th></th>\n",
       "      <th></th>\n",
       "      <th></th>\n",
       "      <th></th>\n",
       "      <th></th>\n",
       "      <th></th>\n",
       "      <th></th>\n",
       "      <th></th>\n",
       "      <th></th>\n",
       "      <th></th>\n",
       "    </tr>\n",
       "  </thead>\n",
       "  <tbody>\n",
       "    <tr>\n",
       "      <th>452657</th>\n",
       "      <td>2</td>\n",
       "      <td>11</td>\n",
       "      <td>6</td>\n",
       "      <td>0.0</td>\n",
       "      <td>2.015000e+09</td>\n",
       "      <td>0.0</td>\n",
       "      <td>0.0</td>\n",
       "      <td>0.0</td>\n",
       "      <td>1.0</td>\n",
       "      <td>0.0</td>\n",
       "      <td>...</td>\n",
       "      <td>572761</td>\n",
       "      <td>18</td>\n",
       "      <td>201500001.0</td>\n",
       "      <td>1.0</td>\n",
       "      <td>1</td>\n",
       "      <td>0.0</td>\n",
       "      <td>0</td>\n",
       "      <td>0</td>\n",
       "      <td>True</td>\n",
       "      <td>711</td>\n",
       "    </tr>\n",
       "    <tr>\n",
       "      <th>452657</th>\n",
       "      <td>14</td>\n",
       "      <td>11</td>\n",
       "      <td>6</td>\n",
       "      <td>0.0</td>\n",
       "      <td>2.015000e+09</td>\n",
       "      <td>0.0</td>\n",
       "      <td>1.0</td>\n",
       "      <td>0.0</td>\n",
       "      <td>2.0</td>\n",
       "      <td>0.0</td>\n",
       "      <td>...</td>\n",
       "      <td>572761</td>\n",
       "      <td>18</td>\n",
       "      <td>201500001.0</td>\n",
       "      <td>1.0</td>\n",
       "      <td>1</td>\n",
       "      <td>0.0</td>\n",
       "      <td>0</td>\n",
       "      <td>0</td>\n",
       "      <td>True</td>\n",
       "      <td>711</td>\n",
       "    </tr>\n",
       "    <tr>\n",
       "      <th>452657</th>\n",
       "      <td>5</td>\n",
       "      <td>11</td>\n",
       "      <td>6</td>\n",
       "      <td>0.0</td>\n",
       "      <td>2.015000e+09</td>\n",
       "      <td>0.0</td>\n",
       "      <td>2.0</td>\n",
       "      <td>0.0</td>\n",
       "      <td>3.0</td>\n",
       "      <td>0.0</td>\n",
       "      <td>...</td>\n",
       "      <td>572761</td>\n",
       "      <td>18</td>\n",
       "      <td>201500001.0</td>\n",
       "      <td>1.0</td>\n",
       "      <td>1</td>\n",
       "      <td>0.0</td>\n",
       "      <td>0</td>\n",
       "      <td>0</td>\n",
       "      <td>True</td>\n",
       "      <td>711</td>\n",
       "    </tr>\n",
       "    <tr>\n",
       "      <th>452657</th>\n",
       "      <td>1</td>\n",
       "      <td>1</td>\n",
       "      <td>6</td>\n",
       "      <td>0.0</td>\n",
       "      <td>2.015000e+09</td>\n",
       "      <td>0.0</td>\n",
       "      <td>2.0</td>\n",
       "      <td>0.0</td>\n",
       "      <td>4.0</td>\n",
       "      <td>0.0</td>\n",
       "      <td>...</td>\n",
       "      <td>572761</td>\n",
       "      <td>18</td>\n",
       "      <td>201500001.0</td>\n",
       "      <td>1.0</td>\n",
       "      <td>1</td>\n",
       "      <td>0.0</td>\n",
       "      <td>0</td>\n",
       "      <td>0</td>\n",
       "      <td>True</td>\n",
       "      <td>711</td>\n",
       "    </tr>\n",
       "    <tr>\n",
       "      <th>452657</th>\n",
       "      <td>1</td>\n",
       "      <td>1</td>\n",
       "      <td>2</td>\n",
       "      <td>0.0</td>\n",
       "      <td>2.015000e+09</td>\n",
       "      <td>1.0</td>\n",
       "      <td>2.0</td>\n",
       "      <td>0.0</td>\n",
       "      <td>5.0</td>\n",
       "      <td>0.0</td>\n",
       "      <td>...</td>\n",
       "      <td>572761</td>\n",
       "      <td>18</td>\n",
       "      <td>201500001.0</td>\n",
       "      <td>1.0</td>\n",
       "      <td>1</td>\n",
       "      <td>0.0</td>\n",
       "      <td>0</td>\n",
       "      <td>0</td>\n",
       "      <td>True</td>\n",
       "      <td>711</td>\n",
       "    </tr>\n",
       "  </tbody>\n",
       "</table>\n",
       "<p>5 rows × 22 columns</p>\n",
       "</div>"
      ],
      "text/plain": [
       "            code  type  pitch_type  b_score         ab_id  b_count  s_count   \n",
       "pitcher_id                                                                    \n",
       "452657         2    11           6      0.0  2.015000e+09      0.0      0.0  \\\n",
       "452657        14    11           6      0.0  2.015000e+09      0.0      1.0   \n",
       "452657         5    11           6      0.0  2.015000e+09      0.0      2.0   \n",
       "452657         1     1           6      0.0  2.015000e+09      0.0      2.0   \n",
       "452657         1     1           2      0.0  2.015000e+09      1.0      2.0   \n",
       "\n",
       "            outs  pitch_num  on_1b  ...  batter_id  event         g_id   \n",
       "pitcher_id                          ...                                  \n",
       "452657       0.0        1.0    0.0  ...     572761     18  201500001.0  \\\n",
       "452657       0.0        2.0    0.0  ...     572761     18  201500001.0   \n",
       "452657       0.0        3.0    0.0  ...     572761     18  201500001.0   \n",
       "452657       0.0        4.0    0.0  ...     572761     18  201500001.0   \n",
       "452657       0.0        5.0    0.0  ...     572761     18  201500001.0   \n",
       "\n",
       "            inning  o  p_score  p_throws  stand   top  full_name  \n",
       "pitcher_id                                                        \n",
       "452657         1.0  1      0.0         0      0  True        711  \n",
       "452657         1.0  1      0.0         0      0  True        711  \n",
       "452657         1.0  1      0.0         0      0  True        711  \n",
       "452657         1.0  1      0.0         0      0  True        711  \n",
       "452657         1.0  1      0.0         0      0  True        711  \n",
       "\n",
       "[5 rows x 22 columns]"
      ]
     },
     "execution_count": 84,
     "metadata": {},
     "output_type": "execute_result"
    }
   ],
   "source": [
    "new_pitches.head(5)"
   ]
  },
  {
   "cell_type": "code",
   "execution_count": null,
   "metadata": {},
   "outputs": [],
   "source": [
    "def PitchDataset(Dataset):\n",
    "    def __init__(self, pitches, types, transform=None):\n",
    "        self.pitches = pitches\n",
    "        self.types = types\n",
    "        self.transform = transform\n"
   ]
  },
  {
   "cell_type": "markdown",
   "metadata": {},
   "source": [
    "## Deep Learning Neural Network"
   ]
  },
  {
   "cell_type": "code",
   "execution_count": null,
   "metadata": {},
   "outputs": [],
   "source": []
  }
 ],
 "metadata": {
  "kernelspec": {
   "display_name": "base",
   "language": "python",
   "name": "python3"
  },
  "language_info": {
   "codemirror_mode": {
    "name": "ipython",
    "version": 3
   },
   "file_extension": ".py",
   "mimetype": "text/x-python",
   "name": "python",
   "nbconvert_exporter": "python",
   "pygments_lexer": "ipython3",
   "version": "3.8.18"
  },
  "orig_nbformat": 4
 },
 "nbformat": 4,
 "nbformat_minor": 2
}
