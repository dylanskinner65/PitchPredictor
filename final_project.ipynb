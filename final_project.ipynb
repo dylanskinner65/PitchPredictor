{
 "cells": [
  {
   "cell_type": "markdown",
   "metadata": {},
   "source": [
    "# Pitch Predictor - Deep Learning Project"
   ]
  },
  {
   "cell_type": "markdown",
   "metadata": {},
   "source": [
    "Owners: Jason Vasquez & Dylan Skinner\n",
    "\n",
    "Last Modified: 9/28/2023\n",
    "\n",
    "CS 674 Advanced Deep Learning Project 1\n",
    "\n",
    "Dr Wingate, 2023 Fall Semester, BYU"
   ]
  },
  {
   "cell_type": "markdown",
   "metadata": {},
   "source": [
    "## Introduction"
   ]
  },
  {
   "cell_type": "markdown",
   "metadata": {},
   "source": [
    "The goal of this project is to use a Deep Learning Neural Network to predict a pitch in an MLB Baseball game based on circumstances that would be known to the batter before the pitch (who's pitching, number of pitches, number of outs, etc.)\n",
    "\n",
    "Data for this project was downloaded from kaggle, courtesy of Paul Schale (https://www.kaggle.com/datasets/pschale/mlb-pitch-data-20152018). The dataset contains all pitch data from the 2015-2019 MLB Seasons, over 3 million pitches.\n",
    "\n",
    "We begin with setting up several baselines with which we can compare the accuracy of our neural network. Our first baseline is a random pull from the distribution of pitches for the specific pitcher. The second baseline is a shallow machine learning catboost model."
   ]
  },
  {
   "cell_type": "code",
   "execution_count": 2,
   "metadata": {},
   "outputs": [],
   "source": [
    "#necessary imports\n",
    "import pandas as pd\n",
    "import numpy as np\n",
    "from matplotlib import pyplot as plt\n",
    "import json\n",
    "import os"
   ]
  },
  {
   "cell_type": "markdown",
   "metadata": {},
   "source": [
    "## Data Setup"
   ]
  },
  {
   "cell_type": "markdown",
   "metadata": {},
   "source": [
    "##### Helper Functions"
   ]
  },
  {
   "cell_type": "code",
   "execution_count": 7,
   "metadata": {},
   "outputs": [],
   "source": [
    "def read_data(file_path):\n",
    "\n",
    "    #set the working directory\n",
    "    os.chdir(file_path)\n",
    "    \n",
    "    # Read in data\n",
    "    pitches = pd.read_csv('pitches.csv')\n",
    "    names = pd.read_csv('player_names.csv')\n",
    "    at_bat = pd.read_csv('atbats.csv')\n",
    "    games = pd.read_csv('games.csv')\n",
    "\n",
    "    # Read in more recent data.\n",
    "    pitches_2019 = pd.read_csv('2019_pitches.csv')\n",
    "    atbats_2019 = pd.read_csv('2019_atbats.csv')\n",
    "    games_2019 = pd.read_csv('2019_games.csv')\n",
    "\n",
    "    # Drop necessary columns to be able to stack data.\n",
    "    games.drop(columns=['delay'], inplace=True)\n",
    "\n",
    "    # Stack dataframes together.\n",
    "    print(f'pitches.shape {pitches.shape}, at_bat.shape {at_bat.shape}, games.shape {games.shape}')\n",
    "    pitches = pd.concat([pitches, pitches_2019], ignore_index=True, axis=0)\n",
    "    at_bat = pd.concat([at_bat, atbats_2019], ignore_index=True, axis=0)\n",
    "    games = pd.concat([games, games_2019], ignore_index=True, axis=0)\n",
    "    print(f'pitches.shape {pitches.shape}, at_bat.shape {at_bat.shape}, games.shape {games.shape}')\n",
    "\n",
    "    # Create column in names with full name.\n",
    "    names['full_name'] = names['first_name'] + ' ' + names['last_name']\n",
    "\n",
    "    return pitches, at_bat, games, names"
   ]
  },
  {
   "cell_type": "code",
   "execution_count": 8,
   "metadata": {},
   "outputs": [],
   "source": [
    "def merge(pitches, at_bat, names):\n",
    "    # Merge pitches and at_bats together.\n",
    "    pitches_merge = pitches.merge(at_bat, on='ab_id', validate='m:1')\n",
    "\n",
    "    # Merge pitches_merge and names together\n",
    "    pitches_merge = pitches_merge.merge(names, left_on='pitcher_id', right_on='id')\n",
    "    pitches_merge.drop(['last_name', 'first_name'], axis=1, inplace=True)\n",
    "    pitches_merge.set_index('pitcher_id', inplace=True)\n",
    "\n",
    "    return pitches_merge"
   ]
  },
  {
   "cell_type": "code",
   "execution_count": 10,
   "metadata": {},
   "outputs": [],
   "source": [
    "def save_data(pitches_merge, file_path):\n",
    "    # several columns have value 'placeholder' for many rows. Convert those all to 0.\n",
    "    pitches_merge['spin_rate'] = pitches_merge.spin_rate.replace('placeholder', 0)\n",
    "    pitches_merge['spin_dir'] = pitches_merge.spin_dir.replace('placeholder', 0)\n",
    "    pitches_merge['type_confidence'] = pitches_merge.type_confidence.replace('placeholder', 0)\n",
    "    pitches_merge['zone'] = pitches_merge.zone.replace('placeholder', 0)\n",
    "    pitches_merge['x'] = pd.to_numeric(pitches_merge['x'], errors='coerce')\n",
    "    pitches_merge['y'] = pd.to_numeric(pitches_merge['y'], errors='coerce')\n",
    "    pitches_merge['code'] = pitches_merge.code.astype(str)\n",
    "    pitches_merge['type'] = pitches_merge.type.astype(str)\n",
    "    pitches_merge['top'] = pitches_merge.top.replace({1.0: True, 0.0: False})\n",
    "\n",
    "    # Convert to parquet.\n",
    "    pitches_merge.to_parquet(file_path + 'pitches_data.parquet')"
   ]
  },
  {
   "cell_type": "markdown",
   "metadata": {},
   "source": [
    "##### Read in the Data from downloaded csv files"
   ]
  },
  {
   "cell_type": "code",
   "execution_count": null,
   "metadata": {},
   "outputs": [],
   "source": [
    "#change file path to wherever csv data is located\n",
    "pitches, at_bats, games, names = read_data('/Users/jasonvasquez/Desktop/cs_674/PitchPredictor/csv_data')"
   ]
  },
  {
   "cell_type": "markdown",
   "metadata": {},
   "source": [
    "##### Merge the pitch data with the at bat data to produce one dataset"
   ]
  },
  {
   "cell_type": "code",
   "execution_count": 9,
   "metadata": {},
   "outputs": [],
   "source": [
    "pitches_merge = merge(pitches, at_bats, names)"
   ]
  },
  {
   "cell_type": "markdown",
   "metadata": {},
   "source": [
    "##### Save the data as a parquet file for easy reloading"
   ]
  },
  {
   "cell_type": "code",
   "execution_count": 11,
   "metadata": {},
   "outputs": [],
   "source": [
    "#change filepath for where you want to save data file\n",
    "save_data(pitches_merge, file_path='/Users/jasonvasquez/Desktop/cs_674/PitchPredictor/')"
   ]
  },
  {
   "cell_type": "markdown",
   "metadata": {},
   "source": [
    "## Pitch Distributions"
   ]
  },
  {
   "cell_type": "markdown",
   "metadata": {},
   "source": [
    "Create a JSON file that contains each pitcher in the dataset and their distribution of pitchers. This will be useful for our random baseline and also will be used as a feature in our deep learning model."
   ]
  }
 ],
 "metadata": {
  "kernelspec": {
   "display_name": "base",
   "language": "python",
   "name": "python3"
  },
  "language_info": {
   "codemirror_mode": {
    "name": "ipython",
    "version": 3
   },
   "file_extension": ".py",
   "mimetype": "text/x-python",
   "name": "python",
   "nbconvert_exporter": "python",
   "pygments_lexer": "ipython3",
   "version": "3.8.18"
  },
  "orig_nbformat": 4
 },
 "nbformat": 4,
 "nbformat_minor": 2
}
