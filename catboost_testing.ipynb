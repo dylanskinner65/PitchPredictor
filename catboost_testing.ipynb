{
 "cells": [
  {
   "cell_type": "code",
   "execution_count": 2,
   "metadata": {},
   "outputs": [
    {
     "name": "stdout",
     "output_type": "stream",
     "text": [
      "Enabling notebook extension jupyter-js-widgets/extension...\n",
      "      - Validating: \u001b[32mOK\u001b[0m\n"
     ]
    }
   ],
   "source": [
    "import numpy as np\n",
    "import pandas as pd\n",
    "import matplotlib.pyplot as plt\n",
    "import json\n",
    "from catboost import CatBoostClassifier, Pool\n",
    "from sklearn.model_selection import train_test_split\n",
    "! jupyter nbextension enable --py widgetsnbextension\n",
    "np.set_printoptions(suppress=True)"
   ]
  },
  {
   "cell_type": "markdown",
   "metadata": {},
   "source": [
    "<h1>Load in and Split <code>catboost_data.parquet</code>"
   ]
  },
  {
   "cell_type": "code",
   "execution_count": 2,
   "metadata": {},
   "outputs": [
    {
     "name": "stdout",
     "output_type": "stream",
     "text": [
      "X.shape, y.shape : (3514339, 15), (3514339,)\n"
     ]
    }
   ],
   "source": [
    "# We only want to keep pitch_type_shift, so drop pitch_type\n",
    "### This may be something we might want to include next time.\n",
    "# catboost_df.drop(columns='pitch_type', inplace=True)\n",
    "catboost_df = pd.read_parquet('catboost_data.parquet')\n",
    "X = catboost_df.iloc[:, :-1]\n",
    "y = catboost_df.iloc[:, -1]\n",
    "print(f'X.shape, y.shape : {X.shape}, {y.shape}')"
   ]
  },
  {
   "cell_type": "code",
   "execution_count": 3,
   "metadata": {},
   "outputs": [
    {
     "name": "stdout",
     "output_type": "stream",
     "text": [
      "0:\tlearn: 2.8057517\ttest: 2.8058269\tbest: 2.8058269 (0)\ttotal: 15s\tremaining: 7m 16s\n",
      "1:\tlearn: 2.7050934\ttest: 2.7051607\tbest: 2.7051607 (1)\ttotal: 44.4s\tremaining: 10m 21s\n",
      "2:\tlearn: 2.6212331\ttest: 2.6213110\tbest: 2.6213110 (2)\ttotal: 1m 30s\tremaining: 13m 38s\n",
      "3:\tlearn: 2.5517881\ttest: 2.5518956\tbest: 2.5518956 (3)\ttotal: 2m 8s\tremaining: 13m 53s\n",
      "4:\tlearn: 2.4922941\ttest: 2.4924269\tbest: 2.4924269 (4)\ttotal: 3m 5s\tremaining: 15m 28s\n",
      "5:\tlearn: 2.4406385\ttest: 2.4408065\tbest: 2.4408065 (5)\ttotal: 4m 57s\tremaining: 19m 50s\n",
      "6:\tlearn: 2.3952246\ttest: 2.3954310\tbest: 2.3954310 (6)\ttotal: 5m 35s\tremaining: 18m 22s\n",
      "7:\tlearn: 2.3556120\ttest: 2.3558367\tbest: 2.3558367 (7)\ttotal: 6m 5s\tremaining: 16m 46s\n",
      "8:\tlearn: 2.3202875\ttest: 2.3205338\tbest: 2.3205338 (8)\ttotal: 6m 39s\tremaining: 15m 31s\n",
      "9:\tlearn: 2.2873447\ttest: 2.2876027\tbest: 2.2876027 (9)\ttotal: 7m 7s\tremaining: 14m 14s\n",
      "10:\tlearn: 2.2581374\ttest: 2.2584004\tbest: 2.2584004 (10)\ttotal: 7m 40s\tremaining: 13m 15s\n",
      "11:\tlearn: 2.2309591\ttest: 2.2312437\tbest: 2.2312437 (11)\ttotal: 8m 16s\tremaining: 12m 25s\n",
      "12:\tlearn: 2.2068714\ttest: 2.2071598\tbest: 2.2071598 (12)\ttotal: 8m 55s\tremaining: 11m 40s\n",
      "13:\tlearn: 2.1840636\ttest: 2.1843761\tbest: 2.1843761 (13)\ttotal: 11m 5s\tremaining: 12m 40s\n",
      "14:\tlearn: 2.1630672\ttest: 2.1633986\tbest: 2.1633986 (14)\ttotal: 13m 53s\tremaining: 13m 53s\n",
      "15:\tlearn: 2.0931147\ttest: 2.0928853\tbest: 2.0928853 (15)\ttotal: 14m 22s\tremaining: 12m 34s\n",
      "16:\tlearn: 2.0377437\ttest: 2.0372108\tbest: 2.0372108 (16)\ttotal: 14m 54s\tremaining: 11m 24s\n",
      "17:\tlearn: 1.9900506\ttest: 1.9893476\tbest: 1.9893476 (17)\ttotal: 15m 26s\tremaining: 10m 17s\n",
      "18:\tlearn: 1.9485280\ttest: 1.9476171\tbest: 1.9476171 (18)\ttotal: 15m 59s\tremaining: 9m 15s\n",
      "19:\tlearn: 1.9122182\ttest: 1.9110687\tbest: 1.9110687 (19)\ttotal: 16m 29s\tremaining: 8m 14s\n",
      "20:\tlearn: 1.8795408\ttest: 1.8781484\tbest: 1.8781484 (20)\ttotal: 17m 2s\tremaining: 7m 18s\n",
      "21:\tlearn: 1.8498534\ttest: 1.8483643\tbest: 1.8483643 (21)\ttotal: 17m 31s\tremaining: 6m 22s\n",
      "22:\tlearn: 1.8226421\ttest: 1.8209095\tbest: 1.8209095 (22)\ttotal: 18m 3s\tremaining: 5m 29s\n",
      "23:\tlearn: 1.7985890\ttest: 1.7967280\tbest: 1.7967280 (23)\ttotal: 18m 32s\tremaining: 4m 38s\n",
      "24:\tlearn: 1.7752558\ttest: 1.7732502\tbest: 1.7732502 (24)\ttotal: 19m 2s\tremaining: 3m 48s\n",
      "25:\tlearn: 1.7531303\ttest: 1.7510340\tbest: 1.7510340 (25)\ttotal: 24m 46s\tremaining: 3m 48s\n",
      "26:\tlearn: 1.7329048\ttest: 1.7307296\tbest: 1.7307296 (26)\ttotal: 25m 18s\tremaining: 2m 48s\n",
      "27:\tlearn: 1.7133032\ttest: 1.7110648\tbest: 1.7110648 (27)\ttotal: 26m 1s\tremaining: 1m 51s\n",
      "28:\tlearn: 1.6962350\ttest: 1.6940309\tbest: 1.6940309 (28)\ttotal: 26m 38s\tremaining: 55.1s\n",
      "29:\tlearn: 1.6797973\ttest: 1.6775293\tbest: 1.6775293 (29)\ttotal: 27m 3s\tremaining: 0us\n",
      "\n",
      "bestTest = 1.677529315\n",
      "bestIteration = 29\n",
      "\n"
     ]
    },
    {
     "data": {
      "text/plain": [
       "<catboost.core.CatBoostClassifier at 0x7fb56257a1d0>"
      ]
     },
     "execution_count": 3,
     "metadata": {},
     "output_type": "execute_result"
    }
   ],
   "source": [
    "# Split our data\n",
    "X_train, X_val, y_train, y_val = train_test_split(\n",
    "\tX, y, test_size=0.25, random_state=28)\n",
    "\n",
    "# Define the hyperparameters for the CatBoost algorithm\n",
    "# params = {'learning_rate': 0.1, \n",
    "#           'depth': 6,\n",
    "# \t\t  'l2_leaf_reg': 3,\n",
    "#           'iterations': 25}\n",
    "    # Best iteration 24, Best test 1.507\n",
    "params = {'learning_rate': 0.05, \n",
    "          'depth': 7,\n",
    "\t\t  'l2_leaf_reg': 4,\n",
    "          'iterations': 30}\n",
    "\n",
    "# Get indicies where column data types are not floats.\n",
    "categorical_features_indices = [i for i, dtype in enumerate(X.dtypes) if dtype not in (float, int)]\n",
    "\n",
    "# Initialize the CatBoostClassifier object\n",
    "# with the defined hyperparameters and fit it on the training set\n",
    "model = CatBoostClassifier(**params)\n",
    "# model.fit(X_train, y_train, cat_features=categorical_features_indices, eval_set=(X_val, y_val), save_snapshot=True, \n",
    "#           snapshot_file='catboost_snapshot/', snapshot_interval=6, verbose=True)\n",
    "\n",
    "model.fit(X_train, y_train, cat_features=categorical_features_indices, eval_set=(X_val, y_val), verbose=True)"
   ]
  },
  {
   "cell_type": "code",
   "execution_count": 6,
   "metadata": {},
   "outputs": [
    {
     "name": "stdout",
     "output_type": "stream",
     "text": [
      "0.44031140982375067\n"
     ]
    }
   ],
   "source": [
    "prediction = model.predict(X_val)\n",
    "print(model.score(X_val, y_val))"
   ]
  },
  {
   "cell_type": "code",
   "execution_count": 7,
   "metadata": {},
   "outputs": [
    {
     "name": "stdout",
     "output_type": "stream",
     "text": [
      "full_name: 77.03917554691064\n",
      "b_score: 0.15459278002851368\n",
      "b_count: 3.6205354201558237\n",
      "s_count: 2.7123093636336257\n",
      "current_outs: 0.1825460060623661\n",
      "pitch_num: 0.7936781024861055\n",
      "on_1b: 0.12237178944782307\n",
      "on_2b: 0.10132702998156719\n",
      "on_3b: 0.0\n",
      "batter_id: 0.06077198962219439\n",
      "inning: 3.011443967865674\n",
      "p_score: 0.008457041887777237\n",
      "p_throws: 6.080323718828767\n",
      "batter_stance: 6.112467243089138\n",
      "top: 0.0\n",
      "100.00000000000003\n"
     ]
    }
   ],
   "source": [
    "for col, feat in zip(X_train.columns, model.feature_importances_):\n",
    "    print(f\"{col}: {feat}\")\n",
    "\n",
    "print(np.sum(model.feature_importances_))"
   ]
  },
  {
   "cell_type": "code",
   "execution_count": 16,
   "metadata": {},
   "outputs": [
    {
     "data": {
      "image/png": "[encoded data removed]",
      "text/plain": [
       "<Figure size 800x600 with 1 Axes>"
      ]
     },
     "metadata": {},
     "output_type": "display_data"
    }
   ],
   "source": [
    "plt.figure(figsize=(8,6), dpi=100)\n",
    "# Print out the information from catboost\n",
    "train_results = pd.read_csv('catboost_info/learn_error.tsv', sep='\\t', index_col='iter')['MultiClass'].to_numpy()\n",
    "test_results = pd.read_csv('catboost_info/test_error.tsv', sep='\\t', index_col='iter')['MultiClass'].to_numpy()\n",
    "train_results\n",
    "test_results\n",
    "plt.plot(np.linspace(0, 30, len(train_results)), train_results)\n",
    "plt.title('Training Loss for CatBoost')\n",
    "plt.show()"
   ]
  },
  {
   "cell_type": "code",
   "execution_count": null,
   "metadata": {},
   "outputs": [],
   "source": []
  }
 ],
 "metadata": {
  "kernelspec": {
   "display_name": "acme1",
   "language": "python",
   "name": "python3"
  },
  "language_info": {
   "codemirror_mode": {
    "name": "ipython",
    "version": 3
   },
   "file_extension": ".py",
   "mimetype": "text/x-python",
   "name": "python",
   "nbconvert_exporter": "python",
   "pygments_lexer": "ipython3",
   "version": "3.7.16"
  },
  "orig_nbformat": 4
 },
 "nbformat": 4,
 "nbformat_minor": 2
}
